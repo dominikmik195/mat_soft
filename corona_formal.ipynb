{
 "cells": [
  {
   "cell_type": "markdown",
   "metadata": {},
   "source": [
    "# KORONAVIRUS"
   ]
  },
  {
   "cell_type": "markdown",
   "metadata": {},
   "source": [
    "U jeku nove epidemije naše su misli cijeli dan, svaki dan, usmjerene na nove vijesti o stanju u državi i svijetu, broju zaraženih, oporavljenih i preminulih od nove bolesti. Budući da su svi ti podatci danas lako dostupni (a medicina je iznimno zanimljiva za proučavanje s matematičke točke gledišta), u ovom ćemo radu promatrati i analizirati te podatke."
   ]
  },
  {
   "cell_type": "markdown",
   "metadata": {},
   "source": [
    "## Što je koronavirus?"
   ]
  },
  {
   "cell_type": "markdown",
   "metadata": {},
   "source": [
    "Par činjenica unijeti, ne previše, ali ipak da znamo što je."
   ]
  },
  {
   "cell_type": "markdown",
   "metadata": {},
   "source": [
    "## Analiza podataka"
   ]
  },
  {
   "cell_type": "markdown",
   "metadata": {},
   "source": [
    "Podatci su preuzeti sa stranice https://data.europa.eu/euodp/hr/data/dataset/covid-19-coronavirus-data i spremljeni u datoteku (zasad) `preuzmi.csv`. <br><br>\n",
    "Atributi podataka su sljedeći:<br><br>\n",
    "```\n",
    "    1. dateRep = promatrani datum u formatu 'dd/mm/gggg'\n",
    "    2. day = broj dana u promatranom datumu\n",
    "    3. month = broj mjeseca u promatranom datumu\n",
    "    4. year = broj godine u promatranom datumu\n",
    "    5. cases = broj novozaraženih na promatrani dan\n",
    "    5. deaths = broj preminulih na promatrani dan\n",
    "    6. countriesAndTerritories = naziv države\n",
    "    7. geoId = iso kod države (alpha 2)\n",
    "    8. countryterritoryCode = iso kod države (alpha 3)\n",
    "    9. popData2018 = ukupan broj populacije iz 2018. za promatranu državu\n",
    "```\n",
    "<br>\n",
    "Prije nego što krenemo prikazivati tablice i analizirati podatke, prvo želimo tablicu <i>srediti</i>. Vidimo odmah da u ovoj tablici ima redundancija (datumi) i nama nebitnih podataka (iso kodovi) pa ćemo prije svega uključiti potrebne biblioteke i riješiti se tih problema."
   ]
  },
  {
   "cell_type": "code",
   "execution_count": 28,
   "metadata": {},
   "outputs": [],
   "source": [
    "import numpy as np\n",
    "import pandas as pd\n",
    "import datetime as dtt\n",
    "\n",
    "def izdvoji_drzavu(drzava):\n",
    "    return data[data['countriesAndTerritories'] == drzava]\n",
    "#nije potrebno pisati ovu funkciju, ali s njom ne moramo konstantno pisati istu, iscrpljujuće dugu liniju koda\n",
    "\n",
    "data = pd.read_csv('preuzmi.csv', encoding='utf-8')\n",
    "imena = ['Date', 'Cases', 'Deaths', 'Country', 'Population']\n",
    "\n",
    "dani = np.array(izdvoji_drzavu('China')['day'])[::-1]\n",
    "mjeseci = np.array(izdvoji_drzavu('China')['month'])[::-1]\n",
    "godine = np.array(izdvoji_drzavu('China')['year'])[::-1]\n",
    "datumi = np.array(izdvoji_drzavu('China')['dateRep'])[::-1]\n",
    "dat_rj = {}\n",
    "for i in range(0, dani.shape[0]):\n",
    "    dat_rj[datumi[i]] = dtt.datetime(godine[i], mjeseci[i], dani[i])\n",
    "data.replace({'dateRep': dat_rj}, inplace = True)\n",
    "del data['day'], data['month'], data['year'], data['geoId'], data['countryterritoryCode']\n",
    "\n",
    "data = data.rename(columns={'dateRep': 'Date', 'cases': 'Cases', 'deaths': 'Deaths', 'countriesAndTerritories': 'Country', 'popData2018': 'Population'})"
   ]
  },
  {
   "cell_type": "code",
   "execution_count": 29,
   "metadata": {},
   "outputs": [
    {
     "data": {
      "text/html": [
       "<div>\n",
       "<style scoped>\n",
       "    .dataframe tbody tr th:only-of-type {\n",
       "        vertical-align: middle;\n",
       "    }\n",
       "\n",
       "    .dataframe tbody tr th {\n",
       "        vertical-align: top;\n",
       "    }\n",
       "\n",
       "    .dataframe thead th {\n",
       "        text-align: right;\n",
       "    }\n",
       "</style>\n",
       "<table border=\"1\" class=\"dataframe\">\n",
       "  <thead>\n",
       "    <tr style=\"text-align: right;\">\n",
       "      <th></th>\n",
       "      <th>Date</th>\n",
       "      <th>Cases</th>\n",
       "      <th>Deaths</th>\n",
       "      <th>Country</th>\n",
       "      <th>Population</th>\n",
       "    </tr>\n",
       "  </thead>\n",
       "  <tbody>\n",
       "    <tr>\n",
       "      <th>0</th>\n",
       "      <td>2020-04-10</td>\n",
       "      <td>61</td>\n",
       "      <td>1</td>\n",
       "      <td>Afghanistan</td>\n",
       "      <td>37172386.0</td>\n",
       "    </tr>\n",
       "    <tr>\n",
       "      <th>1</th>\n",
       "      <td>2020-04-09</td>\n",
       "      <td>56</td>\n",
       "      <td>3</td>\n",
       "      <td>Afghanistan</td>\n",
       "      <td>37172386.0</td>\n",
       "    </tr>\n",
       "    <tr>\n",
       "      <th>2</th>\n",
       "      <td>2020-04-08</td>\n",
       "      <td>30</td>\n",
       "      <td>4</td>\n",
       "      <td>Afghanistan</td>\n",
       "      <td>37172386.0</td>\n",
       "    </tr>\n",
       "    <tr>\n",
       "      <th>3</th>\n",
       "      <td>2020-04-07</td>\n",
       "      <td>38</td>\n",
       "      <td>0</td>\n",
       "      <td>Afghanistan</td>\n",
       "      <td>37172386.0</td>\n",
       "    </tr>\n",
       "    <tr>\n",
       "      <th>4</th>\n",
       "      <td>2020-04-06</td>\n",
       "      <td>29</td>\n",
       "      <td>2</td>\n",
       "      <td>Afghanistan</td>\n",
       "      <td>37172386.0</td>\n",
       "    </tr>\n",
       "  </tbody>\n",
       "</table>\n",
       "</div>"
      ],
      "text/plain": [
       "        Date  Cases  Deaths      Country  Population\n",
       "0 2020-04-10     61       1  Afghanistan  37172386.0\n",
       "1 2020-04-09     56       3  Afghanistan  37172386.0\n",
       "2 2020-04-08     30       4  Afghanistan  37172386.0\n",
       "3 2020-04-07     38       0  Afghanistan  37172386.0\n",
       "4 2020-04-06     29       2  Afghanistan  37172386.0"
      ]
     },
     "execution_count": 29,
     "metadata": {},
     "output_type": "execute_result"
    }
   ],
   "source": [
    "data.head()"
   ]
  },
  {
   "cell_type": "code",
   "execution_count": null,
   "metadata": {},
   "outputs": [],
   "source": []
  }
 ],
 "metadata": {
  "kernelspec": {
   "display_name": "Python 3",
   "language": "python",
   "name": "python3"
  },
  "language_info": {
   "codemirror_mode": {
    "name": "ipython",
    "version": 3
   },
   "file_extension": ".py",
   "mimetype": "text/x-python",
   "name": "python",
   "nbconvert_exporter": "python",
   "pygments_lexer": "ipython3",
   "version": "3.7.7"
  }
 },
 "nbformat": 4,
 "nbformat_minor": 4
}
